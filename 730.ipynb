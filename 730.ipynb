{
 "cells": [
  {
   "cell_type": "code",
   "execution_count": 1,
   "metadata": {},
   "outputs": [],
   "source": [
    "import numpy as np\n",
    "from scipy.linalg import expm"
   ]
  },
  {
   "cell_type": "code",
   "execution_count": 2,
   "metadata": {},
   "outputs": [],
   "source": [
    "T = 2\n",
    "d = 2\n",
    "n = 2\n",
    "steps = 100\n",
    "b_t = 1.05"
   ]
  },
  {
   "cell_type": "code",
   "execution_count": 3,
   "metadata": {},
   "outputs": [],
   "source": [
    "gamma = np.ones(d) * 1\n",
    "beta = np.ones(d) * 1\n",
    "X_bar= np.ones(d) * 0.04\n",
    "\n",
    "Z0 = 1\n",
    "S0 = np.array([[1, 1]])\n",
    "X0 = np.array([[0.04, 0.04]])\n",
    "\n",
    "def theta(X, beta, X_bar, gamma):\n",
    "    res = []\n",
    "    for i in range(n):\n",
    "        res += [beta[i]*(X_bar[i] - X[0,i])**gamma[i]]\n",
    "    return np.array(res)"
   ]
  },
  {
   "cell_type": "code",
   "execution_count": 4,
   "metadata": {},
   "outputs": [],
   "source": [
    "A = np.matrix(np.identity(2))\n",
    "B = np.matrix([[0.04,0.04]])\n",
    "C = np.matrix(np.identity(2)*0.04)\n",
    "sigma_t = np.identity(2)*0.1"
   ]
  },
  {
   "cell_type": "code",
   "execution_count": 5,
   "metadata": {
    "scrolled": false
   },
   "outputs": [],
   "source": [
    "def simulation(A, B, C, Z0, X0, sigma_t,S0, steps, T, d=2):\n",
    "    h = T / steps\n",
    "    dw = np.random.normal(0, np.sqrt(h), [d, steps])\n",
    "    Z = Z0\n",
    "    X = X0\n",
    "    S = S0\n",
    "    X_list = X0\n",
    "    Z_list = np.array([Z])\n",
    "    r_list = np.array([X[0,0]])\n",
    "    S_list = S0\n",
    "    for i in range(0, steps):\n",
    "        dX = (np.dot(A,X.T).T+B) * h + np.dot(C,dw[:,i])\n",
    "        X = X + dX\n",
    "        dZ = np.dot(-theta(X,beta,X_bar,gamma), dw[:,i])\n",
    "        Z = Z + Z * dZ\n",
    "        dS = np.dot( sigma_t ,(theta(X,beta,X_bar,gamma) * h + dw[:,i])) + X[0,0] * h\n",
    "        S = S + np.multiply(S, dS)\n",
    "        X_list = np.concatenate((X_list,X),axis=0)\n",
    "        Z_list = np.append(Z_list, Z)\n",
    "        r_list = np.append(r_list, X[0,0])\n",
    "        S_list = np.concatenate((S_list,S),axis=0)\n",
    "    return X_list, Z_list, r_list, S_list, dw"
   ]
  },
  {
   "cell_type": "code",
   "execution_count": 6,
   "metadata": {},
   "outputs": [],
   "source": [
    "X_list, Z_list, r_list, S_list, dw=simulation(A, B, C, Z0, X0,sigma_t ,S0,steps, T,d)"
   ]
  },
  {
   "cell_type": "code",
   "execution_count": 7,
   "metadata": {},
   "outputs": [],
   "source": [
    "delta = np.array([0.5, 0.5])\n",
    "k = np.array([0.02, 0.02])"
   ]
  },
  {
   "cell_type": "code",
   "execution_count": 8,
   "metadata": {},
   "outputs": [],
   "source": [
    "alpha = np.ones(d) * 0.5"
   ]
  },
  {
   "cell_type": "code",
   "execution_count": 9,
   "metadata": {},
   "outputs": [],
   "source": [
    "def H_1(X,k, delta):\n",
    "    maxfunc = lambda x: max(x,0)\n",
    "    x_new =  np.vectorize(maxfunc)(X-k)\n",
    "    h = sum(delta* x_new)\n",
    "    return h"
   ]
  },
  {
   "cell_type": "code",
   "execution_count": 10,
   "metadata": {},
   "outputs": [],
   "source": [
    "def H_2(X,alpha=np.ones(d) * 0.5):\n",
    "    return np.exp(np.dot(alpha, X))"
   ]
  },
  {
   "cell_type": "code",
   "execution_count": 11,
   "metadata": {},
   "outputs": [],
   "source": [
    "pi_H = np.ones(d) * 0.5\n",
    "rho = 2"
   ]
  },
  {
   "cell_type": "code",
   "execution_count": 12,
   "metadata": {},
   "outputs": [
    {
     "data": {
      "text/plain": [
       "8.974411854812963"
      ]
     },
     "execution_count": 12,
     "metadata": {},
     "output_type": "execute_result"
    }
   ],
   "source": [
    "def H_3(X,pi_H,rho):\n",
    "    X_log = np.log(X)\n",
    "    re = sum(pi_H* X_log)\n",
    "    return re**rho\n",
    "H_3(np.array([0.05,0.05]),pi_H,rho)"
   ]
  },
  {
   "cell_type": "code",
   "execution_count": 13,
   "metadata": {},
   "outputs": [],
   "source": [
    "def ZB_1(r_list, Z_T, h):\n",
    "    b_T = np.exp(sum(r_list[:-1])*h)\n",
    "    return Z_T/b_T\n"
   ]
  },
  {
   "cell_type": "code",
   "execution_count": 14,
   "metadata": {},
   "outputs": [],
   "source": [
    "def ZHB_1(X_T, r_list, Z_T, h, k, delta):\n",
    "    H_T = H_1(X_T, k, delta)\n",
    "    b_T = np.exp(sum(r_list[:-1])*h)\n",
    "    return H_T*Z_T/b_T"
   ]
  },
  {
   "cell_type": "code",
   "execution_count": 15,
   "metadata": {},
   "outputs": [],
   "source": [
    "def ZHB_2(X_T, r_list, Z_T, h):\n",
    "    H_T = H_2(X_T)\n",
    "    b_T = np.exp(sum(r_list[:-1])*h)\n",
    "    return H_T*Z_T/b_T"
   ]
  },
  {
   "cell_type": "code",
   "execution_count": 16,
   "metadata": {},
   "outputs": [
    {
     "data": {
      "text/plain": [
       "array([1.14407604, 1.14407604])"
      ]
     },
     "execution_count": 16,
     "metadata": {},
     "output_type": "execute_result"
    }
   ],
   "source": [
    "def ZHB_3(X_T, r_list, Z_T, h,pi_H,rho):\n",
    "    H_T = H_3(X_T,pi_H,rho)\n",
    "    b_T = np.exp(sum(r_list[:-1])*h)\n",
    "    return H_T*Z_T/b_T\n",
    "ZHB_3(np.array([[0.05,0.05]]), r_list, 1, T/steps,pi_H,rho)"
   ]
  },
  {
   "cell_type": "code",
   "execution_count": 17,
   "metadata": {},
   "outputs": [],
   "source": [
    "def MD_ZHB_1(X_list, r_list, Z_list, dw, A, C, T, steps, beta, X_bar, gamma, delta,k):\n",
    "    # data type for A, C are matrix\n",
    "    X_T = np.array(X_list[-1]).reshape(d,)\n",
    "    Z_T = Z_list[-1]\n",
    "    h = T/steps\n",
    "    zhb = ZHB_1(X_T, r_list, Z_T, h, k, delta)\n",
    "    zb= ZB_1(r_list, Z_T, h)\n",
    "    ex_TA = expm(T*A)\n",
    "    \n",
    "    part_1 = np.linalg.inv(A)*(ex_TA*C - C)\n",
    "    part_1 = np.array(part_1[0]).reshape(d,)\n",
    "    \n",
    "    \n",
    "\n",
    "    part_2 = 0\n",
    "    theta_t = np.array([beta[j]*(X_bar[j]-X_list[0,:][0,j])**gamma[j] for j in range(d)])\n",
    "    for i in range(steps):\n",
    "        v = h*i\n",
    "        X_i = X_list[i,:]\n",
    "        theta_i =  np.array([beta[j]*(X_bar[j]-X_i[0,j])**gamma[j] for j in range(d)])\n",
    "        dw_i = dw[:,i]\n",
    "        integrator = theta_i*h + dw_i\n",
    "        derivative = np.array([beta[j]*gamma[j]*(X_bar[j]-X_i[0,j])**(gamma[j]-1) for j in range(d)])\n",
    "        integrand = np.multiply(derivative.reshape(d,1),expm(v*A)*C)\n",
    "        \n",
    "        part_2 += np.dot(integrator, integrand)\n",
    "    part_2 = np.array(part_2).reshape(d,)\n",
    "    \n",
    "    x_new = X_T-k>0\n",
    "    part_3 = sum(delta * x_new * np.dot(ex_TA,C))\n",
    "\n",
    "    return np.array(-zhb*(theta_t + part_1 + part_2) + zb *part_3)\n"
   ]
  },
  {
   "cell_type": "code",
   "execution_count": 18,
   "metadata": {},
   "outputs": [
    {
     "data": {
      "text/plain": [
       "array([[-0.02134124,  0.10131504]])"
      ]
     },
     "execution_count": 18,
     "metadata": {},
     "output_type": "execute_result"
    }
   ],
   "source": [
    "MD_ZHB_1(X_list, r_list, Z_list, dw, A, C, T, steps, beta, X_bar, gamma, delta,k)"
   ]
  },
  {
   "cell_type": "code",
   "execution_count": 19,
   "metadata": {},
   "outputs": [],
   "source": [
    "def MD_ZHB_2(X_list, r_list, Z_list, dw, A, C, T, steps, beta=np.ones(d), X_bar = np.ones(d)*0.04, gamma=np.ones(d), alpha = np.ones(d)*0.5):\n",
    "    # data type for A, C are matrix\n",
    "    X_T = np.array(X_list[-1]).reshape(d,)\n",
    "    Z_T = Z_list[-1]\n",
    "    h = T/steps\n",
    "    zhb = ZHB_2(X_T, r_list, Z_T, h)\n",
    "    ex_TA = expm(T*A)\n",
    "    part_1 = np.dot(np.dot(alpha,ex_TA),C)\n",
    "    part_1 = np.array(part_1).reshape(d,)\n",
    "    #print(part_1)\n",
    "    part_2 = np.linalg.inv(A)*(ex_TA*C - C)\n",
    "    part_2 = np.array(part_2[0]).reshape(d,)\n",
    "    #print(part_2)\n",
    "    part_3 = 0\n",
    "    theta_t = np.array([beta[j]*(X_bar[j]-X_list[0,:][0,j])**gamma[j] for j in range(d)])\n",
    "    for i in range(steps):\n",
    "        v = h*i\n",
    "        dw_i = dw[:,i]\n",
    "        X_i = X_list[i,:]\n",
    "        theta_i = np.array([beta[j]*(X_bar[j]-X_i[0,j])**gamma[j] for j in range(d)])\n",
    "        integrator = theta_i*h + dw_i\n",
    "        derivative = np.array([beta[j]*gamma[j]*(X_bar[j]-X_i[0,j])**(gamma[j]-1) for j in range(d)])\n",
    "        integrand = np.multiply(derivative.reshape(d,1),expm(v*A)*C)\n",
    "    \n",
    "        part_3 += np.dot(integrator, integrand)\n",
    "    part_3 = np.array(part_3).reshape(d,)\n",
    "    #print(part_3)\n",
    "    return zhb*(part_1 - theta_t - part_2 - part_3)"
   ]
  },
  {
   "cell_type": "code",
   "execution_count": 20,
   "metadata": {},
   "outputs": [
    {
     "data": {
      "text/plain": [
       "array([-0.10749442,  0.24301527])"
      ]
     },
     "execution_count": 20,
     "metadata": {},
     "output_type": "execute_result"
    }
   ],
   "source": [
    "MD_ZHB_2(X_list, r_list, Z_list, dw, A, C, T, steps, beta=np.ones(d), X_bar = np.ones(d)*0.04, gamma=np.ones(d), alpha = np.ones(d)*0.5)"
   ]
  },
  {
   "cell_type": "code",
   "execution_count": 21,
   "metadata": {},
   "outputs": [
    {
     "data": {
      "text/plain": [
       "array([0.15378069, 0.05584893])"
      ]
     },
     "execution_count": 21,
     "metadata": {},
     "output_type": "execute_result"
    }
   ],
   "source": [
    "def MD_ZHB_3(X_list, S_list,r_list, Z_list, dw, A, C, T, steps, sigma_t = np.identity(2)*0.1,beta=np.ones(d), X_bar =np.ones(d)*0.04, gamma=np.ones(d), pi_H=np.ones(d) * 0.5, rho=2):\n",
    "    # data type for A, C are matrix\n",
    "    X_T = np.array(X_list[-1]).reshape(d,)\n",
    "    S_T = np.array(S_list[-1]).reshape(d,)\n",
    "    Z_T = Z_list[-1]\n",
    "    h = T/steps\n",
    "    zhb = ZHB_3(S_T, r_list, Z_T, h,pi_H,rho)\n",
    "    zb= ZB_1(r_list, Z_T, h)\n",
    "    ex_TA = expm(T*A)\n",
    "    \n",
    "    S_log = np.log(S_T)\n",
    "    re = sum(pi_H* S_log)\n",
    "    scalar_1 = rho*re**(rho-1)\n",
    "    \n",
    "    \n",
    "    ex_TA = expm(T*A)\n",
    "    part_2 = np.linalg.inv(A)*(ex_TA*C - C)\n",
    "    part_2 = np.array(part_2[0]).reshape(d,)\n",
    "    \n",
    "    part_3 = 0\n",
    "    for j in range(d):\n",
    "        inte_1 = sigma_t[:,j]\n",
    "        \n",
    "        for i in range(steps):\n",
    "            sigma_jt = sigma_t[:,j]\n",
    "\n",
    "            v = h*i\n",
    "            dw_i = dw[:,i]\n",
    "            X_i = X_list[i,:]\n",
    "            integrator = sigma_t[:,j]\n",
    "            derivative = np.array([beta[k]*gamma[k]*(X_bar[k]-X_i[0,k])**(gamma[k]-1) for k in range(d)])\n",
    "            integrand = np.multiply(derivative.reshape(d,1),expm(v*A)*C)\n",
    "\n",
    "            inte_3 = h * np.dot(integrator, integrand)\n",
    "        \n",
    "        part_3 += pi_H[j] * (inte_1 + part_2 + inte_3)\n",
    "    part_3 = np.array(part_3).reshape(d,)\n",
    "    \n",
    "    part_4 = 0\n",
    "    theta_t = np.array([beta[j]*(X_bar[j]-X_list[0,:][0,j])**gamma[j] for j in range(d)])\n",
    "    for i in range(steps):\n",
    "        v = h*i\n",
    "        dw_i = dw[:,i]\n",
    "        X_i = X_list[i,:]\n",
    "        theta_i = np.array([beta[j]*(X_bar[j]-X_i[0,j])**gamma[j] for j in range(d)])\n",
    "        integrator = theta_i*h + dw_i\n",
    "        derivative = np.array([beta[j]*gamma[j]*(X_bar[j]-X_i[0,j])**(gamma[j]-1) for j in range(d)])\n",
    "        integrand = np.multiply(derivative.reshape(d,1),expm(v*A)*C)\n",
    "    \n",
    "        part_4 += np.dot(integrator, integrand)\n",
    "    part_4 = np.array(part_4).reshape(d,)\n",
    "    \n",
    "    return zb * scalar_1 * part_3 - zhb* (theta_t + part_2 + part_4)\n",
    "MD_ZHB_3(X_list, S_list,r_list, Z_list, dw, A, C, T, steps,sigma_t = np.identity(2)*0.1, beta=np.ones(d), X_bar =np.ones(d)*0.04, gamma=np.ones(d), pi_H=np.ones(d) * 0.5, rho=2)"
   ]
  },
  {
   "cell_type": "code",
   "execution_count": 23,
   "metadata": {},
   "outputs": [],
   "source": [
    "def pi_t_1(M, A, B, C, Z0, X0, S0, steps, T,b_t,beta, X_bar, gamma, sigma_t,k,d):\n",
    "    h = T/steps\n",
    "    theta_t = np.array([beta[j]*(X_bar[j]-X0[0,j])**gamma[j] for j in range(d)])\n",
    "    sigma_t_inv_T = np.linalg.inv(sigma_t).T\n",
    "    pi_i = 0\n",
    "    for i in range(M):\n",
    "        X_list, r_list, Z_list, S_list, dw = simulation(A, B, C, Z0, X0, sigma_t,S0, steps, T, d=2)\n",
    "        X_T = np.array(X_list[-1]).reshape(d,)\n",
    "        Z_T = Z_list[-1]\n",
    "        zhb = ZHB_1(X_T, r_list, Z_T, h, k, delta)\n",
    "        MD_zhb = MD_ZHB_1(X_list, r_list, Z_list, dw, A, C, T, steps, beta, X_bar, gamma, delta,k)\n",
    "        pi_i += np.dot(sigma_t_inv_T, (zhb*theta_t+MD_zhb).T)\n",
    "    \n",
    "    pi_i = pi_i/(M*b_t)\n",
    "    return pi_i   "
   ]
  },
  {
   "cell_type": "code",
   "execution_count": 24,
   "metadata": {},
   "outputs": [],
   "source": [
    "def pi_t_2(M, A, B, C, Z0, X0, S0, steps, T, b_t, beta=np.ones(d), X_bar = 0.04*np.ones(d), gamma=np.ones(d), alpha = np.ones(d)*0.5, sigma_t=np.identity(d)*0.1):\n",
    "    h = T/steps\n",
    "    theta_t = np.array([beta[j]*(X_bar[j]-X0[0,j])**gamma[j] for j in range(d)])\n",
    "    sigma_t_inv_T = np.linalg.inv(sigma_t).T\n",
    "    pi_i = 0\n",
    "    for i in range(M):\n",
    "        X_list, r_list, Z_list, S_list, dw = simulation(A, B, C, Z0, X0, sigma_t,S0, steps, T, d=2)\n",
    "        X_T = np.array(X_list[-1]).reshape(d,)\n",
    "        Z_T = Z_list[-1]\n",
    "        zhb = ZHB_2(X_T, r_list, Z_T, h)\n",
    "        MD_zhb = MD_ZHB_2(X_list, r_list, Z_list, dw, A, C, T, steps, beta, X_bar, gamma,alpha)\n",
    "        pi_i += np.dot(sigma_t_inv_T, zhb*theta_t+MD_zhb)\n",
    "    pi_i = pi_i/(M*b_t)\n",
    "    return pi_i   "
   ]
  },
  {
   "cell_type": "code",
   "execution_count": 25,
   "metadata": {},
   "outputs": [],
   "source": [
    "def pi_t_3(M, A, B, C, Z0, X0, S0, steps, T, b_t, beta=np.ones(d), X_bar = 0.04*np.ones(d), gamma=np.ones(d), pi_H=np.ones(d) * 0.5, rho=2, sigma_t=np.identity(d)*0.1):\n",
    "    h = T/steps\n",
    "    theta_t = np.array([beta[j]*(X_bar[j]-X0[0,j])**gamma[j] for j in range(d)])\n",
    "    sigma_t_inv_T = np.linalg.inv(sigma_t).T\n",
    "    pi_i = 0\n",
    "    for i in range(M):\n",
    "        X_list, r_list, Z_list, S_list, dw = simulation(A, B, C, Z0, X0, sigma_t,S0, steps, T, d=2)\n",
    "        X_T = np.array(X_list[-1]).reshape(d,)\n",
    "        Z_T = Z_list[-1]\n",
    "        S_T = np.array(S_list[-1]).reshape(d,)\n",
    "        zhb = ZHB_3(S_T, r_list, Z_T, h,pi_H, rho)\n",
    "        MD_zhb = MD_ZHB_3(X_list, S_list, r_list, Z_list, dw, A, C, T, steps, sigma_t,beta, X_bar, gamma, pi_H, rho)\n",
    "        pi_i += np.dot(sigma_t_inv_T, zhb*theta_t+MD_zhb)\n",
    "    pi_i = pi_i/(M*b_t)\n",
    "    return pi_i"
   ]
  },
  {
   "cell_type": "code",
   "execution_count": 30,
   "metadata": {},
   "outputs": [
    {
     "data": {
      "text/plain": [
       "array([-0.06332805,  0.23305424])"
      ]
     },
     "execution_count": 30,
     "metadata": {},
     "output_type": "execute_result"
    }
   ],
   "source": [
    "M=1000\n",
    "b_t = 1.05\n",
    "pi_t_2(M, A, B, C, Z0, X0, S0, steps, T, b_t)"
   ]
  },
  {
   "cell_type": "code",
   "execution_count": 31,
   "metadata": {},
   "outputs": [
    {
     "data": {
      "text/plain": [
       "array([[0.02642656],\n",
       "       [0.1058337 ]])"
      ]
     },
     "execution_count": 31,
     "metadata": {},
     "output_type": "execute_result"
    }
   ],
   "source": [
    "pi_t_1(M, A, B, C, Z0, X0, S0, steps, T,b_t,beta, X_bar, gamma, sigma_t,k,d)"
   ]
  },
  {
   "cell_type": "code",
   "execution_count": 32,
   "metadata": {},
   "outputs": [
    {
     "data": {
      "text/plain": [
       "array([0.11808776, 0.03030447])"
      ]
     },
     "execution_count": 32,
     "metadata": {},
     "output_type": "execute_result"
    }
   ],
   "source": [
    "pi_t_3(M, A, B, C, Z0, X0, S0, steps, T, b_t, beta=np.ones(d), X_bar = 0.04*np.ones(d), gamma=np.ones(d), pi_H=np.ones(d) * 0.5, rho=2, sigma_t=np.identity(d)*0.1)"
   ]
  },
  {
   "cell_type": "code",
   "execution_count": null,
   "metadata": {
    "collapsed": true
   },
   "outputs": [],
   "source": []
  }
 ],
 "metadata": {
  "kernelspec": {
   "display_name": "Python 3",
   "language": "python",
   "name": "python3"
  },
  "language_info": {
   "codemirror_mode": {
    "name": "ipython",
    "version": 3
   },
   "file_extension": ".py",
   "mimetype": "text/x-python",
   "name": "python",
   "nbconvert_exporter": "python",
   "pygments_lexer": "ipython3",
   "version": "3.7.4"
  }
 },
 "nbformat": 4,
 "nbformat_minor": 2
}
